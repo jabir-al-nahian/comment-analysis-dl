{
  "cells": [
    {
      "cell_type": "markdown",
      "metadata": {
        "id": "view-in-github",
        "colab_type": "text"
      },
      "source": [
        "<a href=\"https://colab.research.google.com/github/jabir-al-nahian/comment-analysis-dl/blob/main/comment_analysis.ipynb\" target=\"_parent\"><img src=\"https://colab.research.google.com/assets/colab-badge.svg\" alt=\"Open In Colab\"/></a>"
      ]
    },
    {
      "cell_type": "markdown",
      "metadata": {
        "papermill": {
          "duration": 0.011719,
          "end_time": "2020-08-29T09:36:15.981279",
          "exception": false,
          "start_time": "2020-08-29T09:36:15.969560",
          "status": "completed"
        },
        "tags": [],
        "id": "p5xg-pQm8XkX"
      },
      "source": [
        "# Library & Package Import\n",
        "I have used KERAS to implement CNN and LSTM in this dataset."
      ]
    },
    {
      "cell_type": "code",
      "source": [
        "from google.colab import drive\n",
        "drive.mount('/content/drive')"
      ],
      "metadata": {
        "colab": {
          "base_uri": "https://localhost:8080/"
        },
        "id": "PPWvgPrCw9lT",
        "outputId": "d973abdc-d9c5-4627-dc84-8fdd14f212b0"
      },
      "execution_count": null,
      "outputs": [
        {
          "output_type": "stream",
          "name": "stdout",
          "text": [
            "Drive already mounted at /content/drive; to attempt to forcibly remount, call drive.mount(\"/content/drive\", force_remount=True).\n"
          ]
        }
      ]
    },
    {
      "cell_type": "code",
      "source": [
        "import numpy as np\n",
        "import pandas as pd\n",
        "import matplotlib.pyplot as plt\n",
        "%matplotlib inline\n",
        "import seaborn as sns\n",
        "import re,json,nltk\n",
        "from sklearn.preprocessing import LabelEncoder\n",
        "from sklearn.feature_extraction.text import TfidfVectorizer\n",
        "from sklearn.model_selection import train_test_split\n",
        "from sklearn.metrics import classification_report,accuracy_score,precision_score,recall_score,f1_score\n",
        "from tensorflow.keras.preprocessing.text import Tokenizer\n",
        "path ='/content/drive/MyDrive/ICNLPA/toxic/Bengali-News-Headline-Classification-main'\n",
        "stopwords_list = path+'/bangla_stopwords.txt'\n",
        "class color: # Text style\n",
        "   PURPLE = '\\033[95m'\n",
        "   CYAN = '\\033[96m'\n",
        "   DARKCYAN = '\\033[36m'\n",
        "   BLUE = '\\033[94m'\n",
        "   GREEN = '\\033[92m'\n",
        "   YELLOW = '\\033[93m'\n",
        "   RED = '\\033[91m'\n",
        "   BOLD = '\\033[1m'\n",
        "   UNDERLINE = '\\033[4m'\n",
        "   END = '\\033[0m'"
      ],
      "metadata": {
        "id": "k5LoAXwGK44A"
      },
      "execution_count": null,
      "outputs": []
    },
    {
      "cell_type": "markdown",
      "metadata": {
        "papermill": {
          "duration": 0.009881,
          "end_time": "2020-08-29T09:36:24.646568",
          "exception": false,
          "start_time": "2020-08-29T09:36:24.636687",
          "status": "completed"
        },
        "tags": [],
        "id": "88iMX5Ih8Xkc"
      },
      "source": [
        "# Predefined Functions\n",
        "I have predefined some functions for the preprocessing of my texts.The dataset contains raw text data that have many unwanted things\n",
        "(Punctuations,English words,emojis etc..).I have cleaned this things with my function."
      ]
    },
    {
      "cell_type": "code",
      "execution_count": null,
      "metadata": {
        "execution": {
          "iopub.execute_input": "2020-08-29T09:36:24.682336Z",
          "iopub.status.busy": "2020-08-29T09:36:24.681181Z",
          "iopub.status.idle": "2020-08-29T09:36:24.683917Z",
          "shell.execute_reply": "2020-08-29T09:36:24.684510Z"
        },
        "papermill": {
          "duration": 0.028242,
          "end_time": "2020-08-29T09:36:24.684693",
          "exception": false,
          "start_time": "2020-08-29T09:36:24.656451",
          "status": "completed"
        },
        "tags": [],
        "id": "2uxFtlTH8Xkd"
      },
      "outputs": [],
      "source": [
        "def text_to_word_list(text):\n",
        "    text = text.split()\n",
        "    return text\n",
        "\n",
        "def replace_strings(text):\n",
        "    emoji_pattern = re.compile(\"[\"\n",
        "                           u\"\\U0001F600-\\U0001F64F\"  # emoticons\n",
        "                           u\"\\U0001F300-\\U0001F5FF\"  # symbols & pictographs\n",
        "                           u\"\\U0001F680-\\U0001F6FF\"  # transport & map symbols\n",
        "                           u\"\\U0001F1E0-\\U0001F1FF\"  # flags (iOS)\n",
        "                           u\"\\U00002702-\\U000027B0\"\n",
        "                           u\"\\U000024C2-\\U0001F251\"\n",
        "                           u\"\\u00C0-\\u017F\"          #latin\n",
        "                           u\"\\u2000-\\u206F\"          #generalPunctuations\n",
        "\n",
        "                           \"]+\", flags=re.UNICODE)\n",
        "    english_pattern=re.compile('[a-zA-Z0-9]+', flags=re.I)\n",
        "    #latin_pattern=re.compile('[A-Za-z\\u00C0-\\u00D6\\u00D8-\\u00f6\\u00f8-\\u00ff\\s]*',)\n",
        "\n",
        "    text=emoji_pattern.sub(r'', text)\n",
        "    text=english_pattern.sub(r'', text)\n",
        "\n",
        "    return text\n",
        "\n",
        "def remove_punctuations(my_str):\n",
        "    # define punctuation\n",
        "    punctuations = '''```\u0012\u0010\u0002\b`\u0007\b£|¢|\u0007Ñ+-*/=EROero৳০১২৩৪৫৬৭৮৯012–34567•89।!()-[]{};:'\"“\\’,<>./?@#$%^&*_~‘—॥”‰⚽️✌�￰৷￰'''\n",
        "\n",
        "    no_punct = \"\"\n",
        "    for char in my_str:\n",
        "        if char not in punctuations:\n",
        "            no_punct = no_punct + char\n",
        "\n",
        "    # display the unpunctuated string\n",
        "    return no_punct\n",
        "\n",
        "\n",
        "\n",
        "def joining(text):\n",
        "    out=' '.join(text)\n",
        "    return out\n",
        "\n",
        "def preprocessing(text):\n",
        "    out=remove_punctuations(replace_strings(text))\n",
        "    return out"
      ]
    },
    {
      "cell_type": "markdown",
      "metadata": {
        "papermill": {
          "duration": 0.009759,
          "end_time": "2020-08-29T09:36:24.704583",
          "exception": false,
          "start_time": "2020-08-29T09:36:24.694824",
          "status": "completed"
        },
        "tags": [],
        "id": "SkcgtrWL8Xkf"
      },
      "source": [
        "# Data Import\n",
        "The data is in excel file.I have about 6500+ in this dataset.The data is either positive or negative.\n",
        "I have annotated \"0\" as Negative and \"1\" as Positive."
      ]
    },
    {
      "cell_type": "code",
      "execution_count": null,
      "metadata": {
        "execution": {
          "iopub.execute_input": "2020-08-29T09:36:24.730380Z",
          "iopub.status.busy": "2020-08-29T09:36:24.729640Z",
          "iopub.status.idle": "2020-08-29T09:36:25.754179Z",
          "shell.execute_reply": "2020-08-29T09:36:25.754875Z"
        },
        "papermill": {
          "duration": 1.040497,
          "end_time": "2020-08-29T09:36:25.755049",
          "exception": false,
          "start_time": "2020-08-29T09:36:24.714552",
          "status": "completed"
        },
        "tags": [],
        "colab": {
          "base_uri": "https://localhost:8080/",
          "height": 424
        },
        "id": "5SwBu4z88Xkh",
        "outputId": "d22e753c-0450-41de-c38d-14ee4a966abc"
      },
      "outputs": [
        {
          "output_type": "display_data",
          "data": {
            "text/html": [
              "<div>\n",
              "<style scoped>\n",
              "    .dataframe tbody tr th:only-of-type {\n",
              "        vertical-align: middle;\n",
              "    }\n",
              "\n",
              "    .dataframe tbody tr th {\n",
              "        vertical-align: top;\n",
              "    }\n",
              "\n",
              "    .dataframe thead th {\n",
              "        text-align: right;\n",
              "    }\n",
              "</style>\n",
              "<table border=\"1\" class=\"dataframe\">\n",
              "  <thead>\n",
              "    <tr style=\"text-align: right;\">\n",
              "      <th></th>\n",
              "      <th>comment</th>\n",
              "      <th>tag</th>\n",
              "    </tr>\n",
              "  </thead>\n",
              "  <tbody>\n",
              "    <tr>\n",
              "      <th>0</th>\n",
              "      <td>লিখার সময় পারলে সত্য লিখার অভ্যাস শিখুন।</td>\n",
              "      <td>sever_toxic</td>\n",
              "    </tr>\n",
              "    <tr>\n",
              "      <th>1</th>\n",
              "      <td>এটা কেন হচ্ছে? সংশ্লিষ্ট সকলের ডিপ্রেশনের ফলে?...</td>\n",
              "      <td>sever_toxic</td>\n",
              "    </tr>\n",
              "    <tr>\n",
              "      <th>2</th>\n",
              "      <td>আমাদের দেশের স্বাভাবিক অর্থনৈতিক গতিপ্রবাহকে ব...</td>\n",
              "      <td>toxic</td>\n",
              "    </tr>\n",
              "    <tr>\n",
              "      <th>3</th>\n",
              "      <td>চুরি নয় লুটপাট।</td>\n",
              "      <td>toxic</td>\n",
              "    </tr>\n",
              "    <tr>\n",
              "      <th>4</th>\n",
              "      <td>ইসলামী ব্যাংকের বর্তমান অবস্থা দেখে মনে হয় শাস...</td>\n",
              "      <td>normal</td>\n",
              "    </tr>\n",
              "    <tr>\n",
              "      <th>...</th>\n",
              "      <td>...</td>\n",
              "      <td>...</td>\n",
              "    </tr>\n",
              "    <tr>\n",
              "      <th>13797</th>\n",
              "      <td>ভালভাবে নির্বাচন দেন।</td>\n",
              "      <td>normal</td>\n",
              "    </tr>\n",
              "    <tr>\n",
              "      <th>13798</th>\n",
              "      <td>বঙ্গবন্ধুর খুনীদের পারবেন না? এই মূহূর্তে অবশ্...</td>\n",
              "      <td>normal</td>\n",
              "    </tr>\n",
              "    <tr>\n",
              "      <th>13799</th>\n",
              "      <td>আইনকে তার নিজস্ব গতিতে চলতে দেওয়া হোক।</td>\n",
              "      <td>normal</td>\n",
              "    </tr>\n",
              "    <tr>\n",
              "      <th>13800</th>\n",
              "      <td>দেশের প্রশাসন normal না। এমতাবস্থায় তারেক জিয়া...</td>\n",
              "      <td>normal</td>\n",
              "    </tr>\n",
              "    <tr>\n",
              "      <th>13801</th>\n",
              "      <td>সেই ২১ আগস্টের কারিগর বিএনপির রা আজ আমাদের গনত...</td>\n",
              "      <td>normal</td>\n",
              "    </tr>\n",
              "  </tbody>\n",
              "</table>\n",
              "<p>13802 rows × 2 columns</p>\n",
              "</div>"
            ],
            "text/plain": [
              "                                                 comment          tag\n",
              "0               লিখার সময় পারলে সত্য লিখার অভ্যাস শিখুন।  sever_toxic\n",
              "1      এটা কেন হচ্ছে? সংশ্লিষ্ট সকলের ডিপ্রেশনের ফলে?...  sever_toxic\n",
              "2      আমাদের দেশের স্বাভাবিক অর্থনৈতিক গতিপ্রবাহকে ব...        toxic\n",
              "3                                        চুরি নয় লুটপাট।        toxic\n",
              "4      ইসলামী ব্যাংকের বর্তমান অবস্থা দেখে মনে হয় শাস...       normal\n",
              "...                                                  ...          ...\n",
              "13797                              ভালভাবে নির্বাচন দেন।       normal\n",
              "13798  বঙ্গবন্ধুর খুনীদের পারবেন না? এই মূহূর্তে অবশ্...       normal\n",
              "13799             আইনকে তার নিজস্ব গতিতে চলতে দেওয়া হোক।       normal\n",
              "13800  দেশের প্রশাসন normal না। এমতাবস্থায় তারেক জিয়া...       normal\n",
              "13801  সেই ২১ আগস্টের কারিগর বিএনপির রা আজ আমাদের গনত...       normal\n",
              "\n",
              "[13802 rows x 2 columns]"
            ]
          },
          "metadata": {}
        }
      ],
      "source": [
        "df=pd.read_csv('/content/drive/MyDrive/ICNLPA/toxic/Bengali-News-Headline-Classification-main/toxic-data.csv')\n",
        "display(df)"
      ]
    },
    {
      "cell_type": "markdown",
      "metadata": {
        "papermill": {
          "duration": 0.010147,
          "end_time": "2020-08-29T09:36:25.775608",
          "exception": false,
          "start_time": "2020-08-29T09:36:25.765461",
          "status": "completed"
        },
        "tags": [],
        "id": "IqhOgGjF8Xkj"
      },
      "source": [
        "Now we will visualize the ratio of Postive and Negative sentiment.We can see that the ratio is closly 1:1.Which is considered as a good balance."
      ]
    },
    {
      "cell_type": "code",
      "execution_count": null,
      "metadata": {
        "execution": {
          "iopub.execute_input": "2020-08-29T09:36:25.806555Z",
          "iopub.status.busy": "2020-08-29T09:36:25.805699Z",
          "iopub.status.idle": "2020-08-29T09:36:26.033378Z",
          "shell.execute_reply": "2020-08-29T09:36:26.032638Z"
        },
        "papermill": {
          "duration": 0.24749,
          "end_time": "2020-08-29T09:36:26.033522",
          "exception": false,
          "start_time": "2020-08-29T09:36:25.786032",
          "status": "completed"
        },
        "tags": [],
        "colab": {
          "base_uri": "https://localhost:8080/",
          "height": 351
        },
        "id": "n9ExAzzz8Xkk",
        "outputId": "416007f2-0efc-4755-c35d-6752e86351c2"
      },
      "outputs": [
        {
          "output_type": "stream",
          "name": "stderr",
          "text": [
            "/usr/local/lib/python3.7/dist-packages/seaborn/_decorators.py:43: FutureWarning: Pass the following variable as a keyword arg: x. From version 0.12, the only valid positional argument will be `data`, and passing other arguments without an explicit keyword will result in an error or misinterpretation.\n",
            "  FutureWarning\n"
          ]
        },
        {
          "output_type": "display_data",
          "data": {
            "image/png": "[encoded data removed]",
            "text/plain": [
              "<Figure size 432x288 with 1 Axes>"
            ]
          },
          "metadata": {
            "needs_background": "light"
          }
        }
      ],
      "source": [
        "sns.countplot(df['tag']);"
      ]
    },
    {
      "cell_type": "markdown",
      "metadata": {
        "papermill": {
          "duration": 0.010247,
          "end_time": "2020-08-29T09:36:26.054394",
          "exception": false,
          "start_time": "2020-08-29T09:36:26.044147",
          "status": "completed"
        },
        "tags": [],
        "id": "G3c9O3NB8Xkl"
      },
      "source": [
        "# Data Preprocessing\n",
        "At first we will clean the dataset with my predefined function preprocessing()."
      ]
    },
    {
      "cell_type": "code",
      "execution_count": null,
      "metadata": {
        "execution": {
          "iopub.execute_input": "2020-08-29T09:36:26.092237Z",
          "iopub.status.busy": "2020-08-29T09:36:26.087017Z",
          "iopub.status.idle": "2020-08-29T09:36:26.408188Z",
          "shell.execute_reply": "2020-08-29T09:36:26.407407Z"
        },
        "papermill": {
          "duration": 0.343238,
          "end_time": "2020-08-29T09:36:26.408317",
          "exception": false,
          "start_time": "2020-08-29T09:36:26.065079",
          "status": "completed"
        },
        "tags": [],
        "id": "CJOebn4Y8Xkm"
      },
      "outputs": [],
      "source": [
        "df['comment'] = df.comment.apply(lambda x: preprocessing(str(x)))"
      ]
    },
    {
      "cell_type": "code",
      "execution_count": null,
      "metadata": {
        "execution": {
          "iopub.execute_input": "2020-08-29T09:36:26.436809Z",
          "iopub.status.busy": "2020-08-29T09:36:26.435760Z",
          "iopub.status.idle": "2020-08-29T09:36:26.439100Z",
          "shell.execute_reply": "2020-08-29T09:36:26.438502Z"
        },
        "papermill": {
          "duration": 0.019937,
          "end_time": "2020-08-29T09:36:26.439290",
          "exception": false,
          "start_time": "2020-08-29T09:36:26.419353",
          "status": "completed"
        },
        "tags": [],
        "id": "22yuOSVf8Xkn"
      },
      "outputs": [],
      "source": [
        "df.reset_index(drop=True, inplace=True)"
      ]
    },
    {
      "cell_type": "markdown",
      "metadata": {
        "papermill": {
          "duration": 0.010308,
          "end_time": "2020-08-29T09:36:26.460311",
          "exception": false,
          "start_time": "2020-08-29T09:36:26.450003",
          "status": "completed"
        },
        "tags": [],
        "id": "ePZJqBKd8Xko"
      },
      "source": [
        "Now I will prepare the dataset to train in the CNN LSTM network.So i have to convert all Sentences into a numpy Array.\n",
        "\n",
        "I have divided the training and testing data into 80/20 ratio.\n",
        "\n",
        "I have converted the sentiment values into one hot encodings for the convenient use in model training.\n"
      ]
    },
    {
      "cell_type": "code",
      "source": [
        "print(df.comment[75])"
      ],
      "metadata": {
        "colab": {
          "base_uri": "https://localhost:8080/"
        },
        "id": "XMAqPJokIgmu",
        "outputId": "b0ba8218-84ab-4934-afa7-53fd3140678f"
      },
      "execution_count": null,
      "outputs": [
        {
          "output_type": "stream",
          "name": "stdout",
          "text": [
            "বারবার দরকার শেখ হাসিনা সরকার\n"
          ]
        }
      ]
    },
    {
      "cell_type": "code",
      "source": [
        "sns.set(font_scale=1.4)\n",
        "df['tag'].value_counts().plot(kind='barh', figsize=(6, 4))\n",
        "plt.xlabel(\"Number of Comments\", labelpad=12)\n",
        "plt.ylabel(\"Sentiment Class\", labelpad=12)\n",
        "plt.yticks(rotation = 45)\n",
        "plt.title(\"Dataset Distribution\", y=1.02);"
      ],
      "metadata": {
        "colab": {
          "base_uri": "https://localhost:8080/",
          "height": 327
        },
        "id": "FSrzy8h1KMwp",
        "outputId": "6462c89b-e696-4500-8881-6760f27bff2c"
      },
      "execution_count": null,
      "outputs": [
        {
          "output_type": "display_data",
          "data": {
            "image/png": "[encoded data removed]",
            "text/plain": [
              "<Figure size 432x288 with 1 Axes>"
            ]
          },
          "metadata": {}
        }
      ]
    },
    {
      "cell_type": "code",
      "source": [
        "# print some unprocessed reviews\n",
        "sample_df = [10,100,75,150,200,220,330,400,550]\n",
        "for i in sample_df:\n",
        "      print(df.comment[i],'\\n','Sentiment:-- ',df.tag[i],'\\n')"
      ],
      "metadata": {
        "colab": {
          "base_uri": "https://localhost:8080/"
        },
        "id": "0FdYccOPKMlZ",
        "outputId": "07c38fab-cba7-4291-a01a-c4fe0f864e25"
      },
      "execution_count": null,
      "outputs": [
        {
          "output_type": "stream",
          "name": "stdout",
          "text": [
            "এরা যেখানেই যাবে সেখানেই চুরি হবে \n",
            " Sentiment:--  toxic \n",
            "\n",
            "নিক্কেই এশিয়ান রিভিউবাংলাদেশের উত্থানের পেছনে শেখ হাসিনা \n",
            " Sentiment:--  positive \n",
            "\n",
            "বারবার দরকার শেখ হাসিনা সরকার \n",
            " Sentiment:--  positive \n",
            "\n",
            "সার্বিক বিবেচনায় পোশাক শ্রমিকদের বেতন বাড়ানো উচিত বর্তমান বাজার মূল্য বিবেচনা করলে সর্ব নিম্ন বেতন হওয়া দরকার  টাকা যেথানে এখন শ্রমিকরা বেতন পাচ্ছেন  টাকা \n",
            " Sentiment:--  toxic \n",
            "\n",
            "জনগন চাই গ্রামীন এসএমসি করুক \n",
            " Sentiment:--  positive \n",
            "\n",
            "বাচ্চু কি মুহিত মাল সাহেবের থেকেও ক্ষমতাধর এর খমতার উৎস কে তা জাতিকে জানতে হবে এবং জানা জরুরি বাংলাদেশ নামক দেশটির বাচার জন্য \n",
            " Sentiment:--  sever_toxic \n",
            "\n",
            "এই সংবাদ পড়ার পর ব্যংকে টাকা আছে এমন লোকেরা নিশ্চিত আতংকে থাকবেন \n",
            " Sentiment:--  normal \n",
            "\n",
            "উনারা সমালোচনা করেন বলেই বাজেটে যা একটু জনস্বার্থ প্রতিফলিত হয় অন্যথায় যাচ্ছে তাই হতো  \n",
            " Sentiment:--  normal \n",
            "\n",
            "যারা না জেনে না বুঝেই অযথা খারাপ মন্তব্য করছেন তাদের উচিত উপরের রিপরটটা পড়ে মাফ চাওয়া  যে শিলপ দেশকে বাচিয়ে রাখে তার বিরুদ্দে লেখা মানেই দেশের বিরুদ্দে লেখা  \n",
            " Sentiment:--  sever_positive \n",
            "\n"
          ]
        }
      ]
    },
    {
      "cell_type": "code",
      "source": [
        "# Length of each Reveiws\n",
        "df['length'] = df['comment'].apply(lambda x:len(x.split()))\n",
        "# Remove the reviews with least words\n",
        "dataset = df.loc[df.length>2]\n",
        "dataset = df.reset_index(drop = True)\n",
        "print(\"After Cleaning:\",\"\\nRemoved {} Small Reviews\".format(len(df)-len(dataset)),\n",
        "      \"\\nTotal Reviews:\",len(dataset))"
      ],
      "metadata": {
        "colab": {
          "base_uri": "https://localhost:8080/"
        },
        "id": "745XhtS5zkXY",
        "outputId": "68025591-a107-4588-9cee-3e77141c9050"
      },
      "execution_count": null,
      "outputs": [
        {
          "output_type": "stream",
          "name": "stdout",
          "text": [
            "After Cleaning: \n",
            "Removed 0 Small Reviews \n",
            "Total Reviews: 13802\n"
          ]
        }
      ]
    },
    {
      "cell_type": "code",
      "source": [
        "df"
      ],
      "metadata": {
        "colab": {
          "base_uri": "https://localhost:8080/",
          "height": 424
        },
        "id": "zarzXEiX132K",
        "outputId": "660b910f-c165-40c5-abb2-6a45c9a2ea1f"
      },
      "execution_count": null,
      "outputs": [
        {
          "output_type": "execute_result",
          "data": {
            "text/html": [
              "<div>\n",
              "<style scoped>\n",
              "    .dataframe tbody tr th:only-of-type {\n",
              "        vertical-align: middle;\n",
              "    }\n",
              "\n",
              "    .dataframe tbody tr th {\n",
              "        vertical-align: top;\n",
              "    }\n",
              "\n",
              "    .dataframe thead th {\n",
              "        text-align: right;\n",
              "    }\n",
              "</style>\n",
              "<table border=\"1\" class=\"dataframe\">\n",
              "  <thead>\n",
              "    <tr style=\"text-align: right;\">\n",
              "      <th></th>\n",
              "      <th>comment</th>\n",
              "      <th>tag</th>\n",
              "      <th>length</th>\n",
              "    </tr>\n",
              "  </thead>\n",
              "  <tbody>\n",
              "    <tr>\n",
              "      <th>0</th>\n",
              "      <td>লিখার সময় পারলে সত্য লিখার অভ্যাস শিখুন</td>\n",
              "      <td>sever_toxic</td>\n",
              "      <td>7</td>\n",
              "    </tr>\n",
              "    <tr>\n",
              "      <th>1</th>\n",
              "      <td>এটা কেন হচ্ছে সংশ্লিষ্ট সকলের ডিপ্রেশনের ফলে ন...</td>\n",
              "      <td>sever_toxic</td>\n",
              "      <td>14</td>\n",
              "    </tr>\n",
              "    <tr>\n",
              "      <th>2</th>\n",
              "      <td>আমাদের দেশের স্বাভাবিক অর্থনৈতিক গতিপ্রবাহকে ব...</td>\n",
              "      <td>toxic</td>\n",
              "      <td>11</td>\n",
              "    </tr>\n",
              "    <tr>\n",
              "      <th>3</th>\n",
              "      <td>চুরি নয় লুটপাট</td>\n",
              "      <td>toxic</td>\n",
              "      <td>3</td>\n",
              "    </tr>\n",
              "    <tr>\n",
              "      <th>4</th>\n",
              "      <td>ইসলামী ব্যাংকের বর্তমান অবস্থা দেখে মনে হয় শাস...</td>\n",
              "      <td>normal</td>\n",
              "      <td>15</td>\n",
              "    </tr>\n",
              "    <tr>\n",
              "      <th>...</th>\n",
              "      <td>...</td>\n",
              "      <td>...</td>\n",
              "      <td>...</td>\n",
              "    </tr>\n",
              "    <tr>\n",
              "      <th>13797</th>\n",
              "      <td>ভালভাবে নির্বাচন দেন</td>\n",
              "      <td>normal</td>\n",
              "      <td>3</td>\n",
              "    </tr>\n",
              "    <tr>\n",
              "      <th>13798</th>\n",
              "      <td>বঙ্গবন্ধুর খুনীদের পারবেন না এই মূহূর্তে অবশ্য...</td>\n",
              "      <td>normal</td>\n",
              "      <td>32</td>\n",
              "    </tr>\n",
              "    <tr>\n",
              "      <th>13799</th>\n",
              "      <td>আইনকে তার নিজস্ব গতিতে চলতে দেওয়া হোক</td>\n",
              "      <td>normal</td>\n",
              "      <td>7</td>\n",
              "    </tr>\n",
              "    <tr>\n",
              "      <th>13800</th>\n",
              "      <td>দেশের প্রশাসন  না এমতাবস্থায় তারেক জিয়া দেশে এ...</td>\n",
              "      <td>normal</td>\n",
              "      <td>16</td>\n",
              "    </tr>\n",
              "    <tr>\n",
              "      <th>13801</th>\n",
              "      <td>সেই  আগস্টের কারিগর বিএনপির রা আজ আমাদের গনতন্...</td>\n",
              "      <td>normal</td>\n",
              "      <td>21</td>\n",
              "    </tr>\n",
              "  </tbody>\n",
              "</table>\n",
              "<p>13802 rows × 3 columns</p>\n",
              "</div>"
            ],
            "text/plain": [
              "                                                 comment          tag  length\n",
              "0                লিখার সময় পারলে সত্য লিখার অভ্যাস শিখুন  sever_toxic       7\n",
              "1      এটা কেন হচ্ছে সংশ্লিষ্ট সকলের ডিপ্রেশনের ফলে ন...  sever_toxic      14\n",
              "2      আমাদের দেশের স্বাভাবিক অর্থনৈতিক গতিপ্রবাহকে ব...        toxic      11\n",
              "3                                         চুরি নয় লুটপাট        toxic       3\n",
              "4      ইসলামী ব্যাংকের বর্তমান অবস্থা দেখে মনে হয় শাস...       normal      15\n",
              "...                                                  ...          ...     ...\n",
              "13797                               ভালভাবে নির্বাচন দেন       normal       3\n",
              "13798  বঙ্গবন্ধুর খুনীদের পারবেন না এই মূহূর্তে অবশ্য...       normal      32\n",
              "13799              আইনকে তার নিজস্ব গতিতে চলতে দেওয়া হোক       normal       7\n",
              "13800  দেশের প্রশাসন  না এমতাবস্থায় তারেক জিয়া দেশে এ...       normal      16\n",
              "13801  সেই  আগস্টের কারিগর বিএনপির রা আজ আমাদের গনতন্...       normal      21\n",
              "\n",
              "[13802 rows x 3 columns]"
            ]
          },
          "metadata": {},
          "execution_count": 82
        }
      ]
    },
    {
      "cell_type": "code",
      "source": [
        "df"
      ],
      "metadata": {
        "colab": {
          "base_uri": "https://localhost:8080/",
          "height": 424
        },
        "id": "j5I0N4ZB1wKS",
        "outputId": "e15c6202-6f22-4bf1-feae-9bc634bda47d"
      },
      "execution_count": null,
      "outputs": [
        {
          "output_type": "execute_result",
          "data": {
            "text/html": [
              "<div>\n",
              "<style scoped>\n",
              "    .dataframe tbody tr th:only-of-type {\n",
              "        vertical-align: middle;\n",
              "    }\n",
              "\n",
              "    .dataframe tbody tr th {\n",
              "        vertical-align: top;\n",
              "    }\n",
              "\n",
              "    .dataframe thead th {\n",
              "        text-align: right;\n",
              "    }\n",
              "</style>\n",
              "<table border=\"1\" class=\"dataframe\">\n",
              "  <thead>\n",
              "    <tr style=\"text-align: right;\">\n",
              "      <th></th>\n",
              "      <th>comment</th>\n",
              "      <th>tag</th>\n",
              "      <th>length</th>\n",
              "    </tr>\n",
              "  </thead>\n",
              "  <tbody>\n",
              "    <tr>\n",
              "      <th>0</th>\n",
              "      <td>লিখার সময় পারলে সত্য লিখার অভ্যাস শিখুন</td>\n",
              "      <td>sever_toxic</td>\n",
              "      <td>7</td>\n",
              "    </tr>\n",
              "    <tr>\n",
              "      <th>1</th>\n",
              "      <td>এটা কেন হচ্ছে সংশ্লিষ্ট সকলের ডিপ্রেশনের ফলে ন...</td>\n",
              "      <td>sever_toxic</td>\n",
              "      <td>14</td>\n",
              "    </tr>\n",
              "    <tr>\n",
              "      <th>2</th>\n",
              "      <td>আমাদের দেশের স্বাভাবিক অর্থনৈতিক গতিপ্রবাহকে ব...</td>\n",
              "      <td>toxic</td>\n",
              "      <td>11</td>\n",
              "    </tr>\n",
              "    <tr>\n",
              "      <th>3</th>\n",
              "      <td>চুরি নয় লুটপাট</td>\n",
              "      <td>toxic</td>\n",
              "      <td>3</td>\n",
              "    </tr>\n",
              "    <tr>\n",
              "      <th>4</th>\n",
              "      <td>ইসলামী ব্যাংকের বর্তমান অবস্থা দেখে মনে হয় শাস...</td>\n",
              "      <td>normal</td>\n",
              "      <td>15</td>\n",
              "    </tr>\n",
              "    <tr>\n",
              "      <th>...</th>\n",
              "      <td>...</td>\n",
              "      <td>...</td>\n",
              "      <td>...</td>\n",
              "    </tr>\n",
              "    <tr>\n",
              "      <th>13797</th>\n",
              "      <td>ভালভাবে নির্বাচন দেন</td>\n",
              "      <td>normal</td>\n",
              "      <td>3</td>\n",
              "    </tr>\n",
              "    <tr>\n",
              "      <th>13798</th>\n",
              "      <td>বঙ্গবন্ধুর খুনীদের পারবেন না এই মূহূর্তে অবশ্য...</td>\n",
              "      <td>normal</td>\n",
              "      <td>32</td>\n",
              "    </tr>\n",
              "    <tr>\n",
              "      <th>13799</th>\n",
              "      <td>আইনকে তার নিজস্ব গতিতে চলতে দেওয়া হোক</td>\n",
              "      <td>normal</td>\n",
              "      <td>7</td>\n",
              "    </tr>\n",
              "    <tr>\n",
              "      <th>13800</th>\n",
              "      <td>দেশের প্রশাসন  না এমতাবস্থায় তারেক জিয়া দেশে এ...</td>\n",
              "      <td>normal</td>\n",
              "      <td>16</td>\n",
              "    </tr>\n",
              "    <tr>\n",
              "      <th>13801</th>\n",
              "      <td>সেই  আগস্টের কারিগর বিএনপির রা আজ আমাদের গনতন্...</td>\n",
              "      <td>normal</td>\n",
              "      <td>21</td>\n",
              "    </tr>\n",
              "  </tbody>\n",
              "</table>\n",
              "<p>13802 rows × 3 columns</p>\n",
              "</div>"
            ],
            "text/plain": [
              "                                                 comment          tag  length\n",
              "0                লিখার সময় পারলে সত্য লিখার অভ্যাস শিখুন  sever_toxic       7\n",
              "1      এটা কেন হচ্ছে সংশ্লিষ্ট সকলের ডিপ্রেশনের ফলে ন...  sever_toxic      14\n",
              "2      আমাদের দেশের স্বাভাবিক অর্থনৈতিক গতিপ্রবাহকে ব...        toxic      11\n",
              "3                                         চুরি নয় লুটপাট        toxic       3\n",
              "4      ইসলামী ব্যাংকের বর্তমান অবস্থা দেখে মনে হয় শাস...       normal      15\n",
              "...                                                  ...          ...     ...\n",
              "13797                               ভালভাবে নির্বাচন দেন       normal       3\n",
              "13798  বঙ্গবন্ধুর খুনীদের পারবেন না এই মূহূর্তে অবশ্য...       normal      32\n",
              "13799              আইনকে তার নিজস্ব গতিতে চলতে দেওয়া হোক       normal       7\n",
              "13800  দেশের প্রশাসন  না এমতাবস্থায় তারেক জিয়া দেশে এ...       normal      16\n",
              "13801  সেই  আগস্টের কারিগর বিএনপির রা আজ আমাদের গনতন্...       normal      21\n",
              "\n",
              "[13802 rows x 3 columns]"
            ]
          },
          "metadata": {},
          "execution_count": 83
        }
      ]
    },
    {
      "cell_type": "code",
      "source": [
        "contractions = {\n",
        "\"বি.দ্র \": \"বিশেষ দ্রষ্টব্য\",\n",
        "\"ড.\": \"ডক্টর\",\n",
        "\"ডা.\": \"ডাক্তার\",\n",
        "\"ইঞ্জি:\": \"ইঞ্জিনিয়ার\",\n",
        "\"রেজি:\": \"রেজিস্ট্রেশন\",\n",
        "\"মি.\": \"মিস্টার\",\n",
        "\"মু.\": \"মুহাম্মদ\",\n",
        "\"মো.\": \"মোহাম্মদ\",\n",
        "}"
      ],
      "metadata": {
        "id": "jBWehVNx09Sb"
      },
      "execution_count": null,
      "outputs": []
    },
    {
      "cell_type": "code",
      "source": [
        "import string\n",
        "import re\n",
        "def clean_text(text,remove_stopwords = False):\n",
        "    if True:\n",
        "        text = text.split()\n",
        "        new_text = []\n",
        "        for word in text:\n",
        "            if word in contractions:\n",
        "                new_text.append(contractions[word])\n",
        "            else:\n",
        "                new_text.append(word)\n",
        "        text = \" \".join(new_text)\n",
        "    # Format words and remove unwanted characters\n",
        "    whitespace = re.compile(u\"[\\s\\u0020\\u00a0\\u1680\\u180e\\u202f\\u205f\\u3000\\u2000-\\u200a]+\", re.UNICODE)\n",
        "    bangla_digits = u\"[\\u09E6\\u09E7\\u09E8\\u09E9\\u09EA\\u09EB\\u09EC\\u09ED\\u09EE\\u09EF]+\"\n",
        "    english_chars = u\"[a-zA-Z0-9]\"\n",
        "    punc = u\"[(),$%^&*+={}\\[\\]:\\\"|\\'\\~`<>/,€¦!?½£¶™¼©⅐⅑⅒⅓⅔⅕⅖⅗⅘⅙⅚⅛⅜⅝⅞⅟↉¤¿º;-]+\"\n",
        "    bangla_fullstop = u\"\\u0964\"     #bangla fullstop(dari)\n",
        "\n",
        "    punctSeq   = u\"['\\\"“”‘’]+|[.?!,…]+|[:;]+\"\n",
        "\n",
        "    text = re.sub(bangla_digits, \" \", text)\n",
        "    text = re.sub(punc, \" \", text)\n",
        "    text = re.sub(english_chars, \" \", text)\n",
        "    text = re.sub(bangla_fullstop, \" \", text)\n",
        "    text = re.sub(punctSeq, \" \", text)\n",
        "    text = whitespace.sub(\" \", text).strip()\n",
        "\n",
        "    text = re.sub(r'https?:\\/\\/.*[\\r\\n]*', '', text, flags=re.MULTILINE)\n",
        "    text = re.sub(r'\\<a href', ' ', text)\n",
        "    text = re.sub(r'&amp;‘:‘ ’', '', text)\n",
        "    text = re.sub(r'[_\"\\-;%()|+&=*%.,!?:#$@\\[\\]/]। ,', ' ', text)\n",
        "    text = re.sub(r'<br />', ' ', text)\n",
        "    text = re.sub(r'\\'', ' ', text)\n",
        "    text = re.sub(r\"[\\@$#%~+-\\.\\'।\\\"]\",\" \",text)\n",
        "    text = re.sub(r\"(?m)^\\s+\", \"\", text)\n",
        "    text = re.sub(\"[()]\",\"\",text)\n",
        "    text = re.sub(\"[‘’]\",\"\",text)\n",
        "    text = re.sub(\"[!]\",\"\",text)\n",
        "    text = re.sub(\"[/]\",\"\",text)\n",
        "    text = re.sub(\"[:]\",\"\",text)\n",
        "    text= re.sub('\\ |\\?|\\.|\\!|\\/|\\;|\\:', ' ',text)\n",
        "    text= text.strip(\"/\")\n",
        "\n",
        "    if remove_stopwords:\n",
        "        k = []\n",
        "        with open('/content/drive/MyDrive/ICNLPA/toxic/Bengali-News-Headline-Classification-main/bangla_stopwords.txt', 'r',encoding=\"utf-8\") as f:\n",
        "            for word in f:\n",
        "                word = word.split()\n",
        "                k.append(word[0])\n",
        "            text = [t for t in text if t not in k]\n",
        "            text = \"\".join(text)\n",
        "\n",
        "    return text"
      ],
      "metadata": {
        "id": "-2THXY-k0Qb1"
      },
      "execution_count": null,
      "outputs": []
    },
    {
      "cell_type": "code",
      "source": [
        "df"
      ],
      "metadata": {
        "colab": {
          "base_uri": "https://localhost:8080/",
          "height": 424
        },
        "id": "kH92QZPr1mr8",
        "outputId": "8f179016-fd6a-4238-9147-073f6b53274e"
      },
      "execution_count": null,
      "outputs": [
        {
          "output_type": "execute_result",
          "data": {
            "text/html": [
              "<div>\n",
              "<style scoped>\n",
              "    .dataframe tbody tr th:only-of-type {\n",
              "        vertical-align: middle;\n",
              "    }\n",
              "\n",
              "    .dataframe tbody tr th {\n",
              "        vertical-align: top;\n",
              "    }\n",
              "\n",
              "    .dataframe thead th {\n",
              "        text-align: right;\n",
              "    }\n",
              "</style>\n",
              "<table border=\"1\" class=\"dataframe\">\n",
              "  <thead>\n",
              "    <tr style=\"text-align: right;\">\n",
              "      <th></th>\n",
              "      <th>comment</th>\n",
              "      <th>tag</th>\n",
              "      <th>length</th>\n",
              "    </tr>\n",
              "  </thead>\n",
              "  <tbody>\n",
              "    <tr>\n",
              "      <th>0</th>\n",
              "      <td>লিখার সময় পারলে সত্য লিখার অভ্যাস শিখুন</td>\n",
              "      <td>sever_toxic</td>\n",
              "      <td>7</td>\n",
              "    </tr>\n",
              "    <tr>\n",
              "      <th>1</th>\n",
              "      <td>এটা কেন হচ্ছে সংশ্লিষ্ট সকলের ডিপ্রেশনের ফলে ন...</td>\n",
              "      <td>sever_toxic</td>\n",
              "      <td>14</td>\n",
              "    </tr>\n",
              "    <tr>\n",
              "      <th>2</th>\n",
              "      <td>আমাদের দেশের স্বাভাবিক অর্থনৈতিক গতিপ্রবাহকে ব...</td>\n",
              "      <td>toxic</td>\n",
              "      <td>11</td>\n",
              "    </tr>\n",
              "    <tr>\n",
              "      <th>3</th>\n",
              "      <td>চুরি নয় লুটপাট</td>\n",
              "      <td>toxic</td>\n",
              "      <td>3</td>\n",
              "    </tr>\n",
              "    <tr>\n",
              "      <th>4</th>\n",
              "      <td>ইসলামী ব্যাংকের বর্তমান অবস্থা দেখে মনে হয় শাস...</td>\n",
              "      <td>normal</td>\n",
              "      <td>15</td>\n",
              "    </tr>\n",
              "    <tr>\n",
              "      <th>...</th>\n",
              "      <td>...</td>\n",
              "      <td>...</td>\n",
              "      <td>...</td>\n",
              "    </tr>\n",
              "    <tr>\n",
              "      <th>13797</th>\n",
              "      <td>ভালভাবে নির্বাচন দেন</td>\n",
              "      <td>normal</td>\n",
              "      <td>3</td>\n",
              "    </tr>\n",
              "    <tr>\n",
              "      <th>13798</th>\n",
              "      <td>বঙ্গবন্ধুর খুনীদের পারবেন না এই মূহূর্তে অবশ্য...</td>\n",
              "      <td>normal</td>\n",
              "      <td>32</td>\n",
              "    </tr>\n",
              "    <tr>\n",
              "      <th>13799</th>\n",
              "      <td>আইনকে তার নিজস্ব গতিতে চলতে দেওয়া হোক</td>\n",
              "      <td>normal</td>\n",
              "      <td>7</td>\n",
              "    </tr>\n",
              "    <tr>\n",
              "      <th>13800</th>\n",
              "      <td>দেশের প্রশাসন  না এমতাবস্থায় তারেক জিয়া দেশে এ...</td>\n",
              "      <td>normal</td>\n",
              "      <td>16</td>\n",
              "    </tr>\n",
              "    <tr>\n",
              "      <th>13801</th>\n",
              "      <td>সেই  আগস্টের কারিগর বিএনপির রা আজ আমাদের গনতন্...</td>\n",
              "      <td>normal</td>\n",
              "      <td>21</td>\n",
              "    </tr>\n",
              "  </tbody>\n",
              "</table>\n",
              "<p>13802 rows × 3 columns</p>\n",
              "</div>"
            ],
            "text/plain": [
              "                                                 comment          tag  length\n",
              "0                লিখার সময় পারলে সত্য লিখার অভ্যাস শিখুন  sever_toxic       7\n",
              "1      এটা কেন হচ্ছে সংশ্লিষ্ট সকলের ডিপ্রেশনের ফলে ন...  sever_toxic      14\n",
              "2      আমাদের দেশের স্বাভাবিক অর্থনৈতিক গতিপ্রবাহকে ব...        toxic      11\n",
              "3                                         চুরি নয় লুটপাট        toxic       3\n",
              "4      ইসলামী ব্যাংকের বর্তমান অবস্থা দেখে মনে হয় শাস...       normal      15\n",
              "...                                                  ...          ...     ...\n",
              "13797                               ভালভাবে নির্বাচন দেন       normal       3\n",
              "13798  বঙ্গবন্ধুর খুনীদের পারবেন না এই মূহূর্তে অবশ্য...       normal      32\n",
              "13799              আইনকে তার নিজস্ব গতিতে চলতে দেওয়া হোক       normal       7\n",
              "13800  দেশের প্রশাসন  না এমতাবস্থায় তারেক জিয়া দেশে এ...       normal      16\n",
              "13801  সেই  আগস্টের কারিগর বিএনপির রা আজ আমাদের গনতন্...       normal      21\n",
              "\n",
              "[13802 rows x 3 columns]"
            ]
          },
          "metadata": {},
          "execution_count": 86
        }
      ]
    },
    {
      "cell_type": "code",
      "source": [
        "clean_type = []\n",
        "for newstype in df.tag:\n",
        "    clean_type.append(clean_text(newstype,remove_stopwords=True))\n",
        "\n",
        "clean_texts = []\n",
        "for text in df.comment:\n",
        "    clean_texts.append(clean_text(text))"
      ],
      "metadata": {
        "id": "XHGoR2z90QSs"
      },
      "execution_count": null,
      "outputs": []
    },
    {
      "cell_type": "code",
      "source": [
        "import itertools\n",
        "import os\n",
        "import numpy as np # linear algebra\n",
        "%matplotlib inline\n",
        "import matplotlib.pyplot as plt\n",
        "import numpy as np\n",
        "import pandas as pd\n",
        "import tensorflow as tf\n",
        "\n",
        "from sklearn.preprocessing import LabelBinarizer, LabelEncoder\n",
        "from sklearn.metrics import confusion_matrix\n",
        "\n",
        "from tensorflow import keras\n",
        "import keras.utils as ku\n",
        "from keras.callbacks import EarlyStopping\n",
        "from keras.utils.vis_utils import plot_model\n",
        "from keras.layers import Dropout\n",
        "from keras import optimizers\n",
        "\n",
        "from numpy.random import seed\n",
        "\n",
        "seed(1)\n",
        "\n",
        "layers = keras.layers\n",
        "models = keras.models"
      ],
      "metadata": {
        "id": "9L9E_X4s2g6S"
      },
      "execution_count": null,
      "outputs": []
    },
    {
      "cell_type": "code",
      "source": [
        "df['tag'].value_counts()"
      ],
      "metadata": {
        "colab": {
          "base_uri": "https://localhost:8080/"
        },
        "id": "yHG0oN0y2jjx",
        "outputId": "c862e0ba-3567-4ff1-ce2a-2b61cdd4cd99"
      },
      "execution_count": null,
      "outputs": [
        {
          "output_type": "execute_result",
          "data": {
            "text/plain": [
              "toxic             3928\n",
              "sever_toxic       3198\n",
              "normal            2951\n",
              "positive          2280\n",
              "sever_positive    1445\n",
              "Name: tag, dtype: int64"
            ]
          },
          "metadata": {},
          "execution_count": 99
        }
      ]
    },
    {
      "cell_type": "code",
      "source": [
        "train_size = int(len(df) * .80)\n",
        "print (\"Train size: %d\" % train_size)\n",
        "print (\"Test size: %d\" % (len(df) - train_size))"
      ],
      "metadata": {
        "colab": {
          "base_uri": "https://localhost:8080/"
        },
        "id": "5KGioG2g4vbh",
        "outputId": "75ef0a51-59df-4e3d-9707-9b8b3ecb8eb3"
      },
      "execution_count": null,
      "outputs": [
        {
          "output_type": "stream",
          "name": "stdout",
          "text": [
            "Train size: 11041\n",
            "Test size: 2761\n"
          ]
        }
      ]
    },
    {
      "cell_type": "code",
      "source": [
        "def train_test_split(df, train_size):\n",
        "    train = df[:train_size]\n",
        "    test = df[train_size:]\n",
        "    return train, test"
      ],
      "metadata": {
        "id": "eP1R55rR5BOH"
      },
      "execution_count": null,
      "outputs": []
    },
    {
      "cell_type": "code",
      "source": [
        "train_cat, test_cat = train_test_split(df['tag'], train_size,)\n",
        "train_text, test_text = train_test_split(df['comment'], train_size,)"
      ],
      "metadata": {
        "id": "GjssStdT5BKt"
      },
      "execution_count": null,
      "outputs": []
    },
    {
      "cell_type": "code",
      "source": [
        "max_words = 5000\n",
        "tokenize = keras.preprocessing.text.Tokenizer(num_words=max_words,\n",
        "                                              char_level=False)"
      ],
      "metadata": {
        "id": "3rIH8g765BHK"
      },
      "execution_count": null,
      "outputs": []
    },
    {
      "cell_type": "code",
      "source": [
        "tokenize.fit_on_texts(train_text)\n",
        "x_train = tokenize.texts_to_matrix(train_text)\n",
        "x_test = tokenize.texts_to_matrix(test_text)"
      ],
      "metadata": {
        "id": "Yg5GUnpA5N8-"
      },
      "execution_count": null,
      "outputs": []
    },
    {
      "cell_type": "code",
      "source": [
        "encoder = LabelEncoder()\n",
        "encoder.fit(train_cat)\n",
        "y_train = encoder.transform(train_cat)\n",
        "y_test = encoder.transform(test_cat)"
      ],
      "metadata": {
        "id": "fnzFjW_G5N2X"
      },
      "execution_count": null,
      "outputs": []
    },
    {
      "cell_type": "code",
      "source": [
        "num_classes = np.max(y_train) + 1\n",
        "y_train = keras.utils.to_categorical(y_train, num_classes)\n",
        "y_test = keras.utils.to_categorical(y_test, num_classes)"
      ],
      "metadata": {
        "id": "9_pnBw3L5Nww"
      },
      "execution_count": null,
      "outputs": []
    },
    {
      "cell_type": "code",
      "source": [
        "print('x_train shape:', x_train.shape)\n",
        "print('x_test shape:', x_test.shape)\n",
        "print('y_train shape:', y_train.shape)\n",
        "print('y_test shape:', y_test.shape)"
      ],
      "metadata": {
        "colab": {
          "base_uri": "https://localhost:8080/"
        },
        "id": "GcJgtPHq5Wv7",
        "outputId": "572a34ac-2efa-4e71-b601-27923030cbd0"
      },
      "execution_count": null,
      "outputs": [
        {
          "output_type": "stream",
          "name": "stdout",
          "text": [
            "x_train shape: (11041, 5000)\n",
            "x_test shape: (2761, 5000)\n",
            "y_train shape: (11041, 5)\n",
            "y_test shape: (2761, 5)\n"
          ]
        }
      ]
    },
    {
      "cell_type": "code",
      "source": [
        "batch_size = 16\n",
        "epochs = 80\n",
        "adam=keras.optimizers.Adam(learning_rate=0.0005, beta_1=0.9, beta_2=0.999, amsgrad=False)"
      ],
      "metadata": {
        "id": "SfZ41fj25WoQ"
      },
      "execution_count": null,
      "outputs": []
    },
    {
      "cell_type": "code",
      "source": [
        "import numpy as np\n",
        "from keras.preprocessing.text import Tokenizer\n",
        "from keras.preprocessing.sequence import pad_sequences\n",
        "from keras.models import Sequential\n",
        "from keras.layers import LSTM,Dense,Embedding,SpatialDropout1D\n",
        "from keras.utils.np_utils import to_categorical\n",
        "from sklearn.model_selection import train_test_split\n",
        "from sklearn.feature_extraction.text import CountVectorizer"
      ],
      "metadata": {
        "id": "QGDcvXOXtg0d"
      },
      "execution_count": null,
      "outputs": []
    },
    {
      "cell_type": "code",
      "source": [
        "model = models.Sequential()\n",
        "model.add(layers.Dense(16,kernel_initializer='uniform',input_shape=(max_words,)))\n",
        "model.add(layers.Dropout(0.2))\n",
        "model.add(layers.Activation('relu'))\n",
        "model.add(layers.Dense(num_classes))\n",
        "model.add(layers.Dropout(0.2))\n",
        "model.add(layers.Activation('softmax'))\n",
        "model.compile(loss='categorical_crossentropy',optimizer=adam,metrics=['accuracy'])\n",
        "model.summary()"
      ],
      "metadata": {
        "colab": {
          "base_uri": "https://localhost:8080/",
          "height": 235
        },
        "id": "1igiAuqb5WhC",
        "outputId": "24debacc-6a68-49f9-dc06-69bcde4a8d75"
      },
      "execution_count": null,
      "outputs": [
        {
          "output_type": "error",
          "ename": "NameError",
          "evalue": "ignored",
          "traceback": [
            "\u001b[0;31m---------------------------------------------------------------------------\u001b[0m",
            "\u001b[0;31mNameError\u001b[0m                                 Traceback (most recent call last)",
            "\u001b[0;32m<ipython-input-2-92258e17be84>\u001b[0m in \u001b[0;36m<module>\u001b[0;34m()\u001b[0m\n\u001b[0;32m----> 1\u001b[0;31m \u001b[0mmodel\u001b[0m \u001b[0;34m=\u001b[0m \u001b[0mmodels\u001b[0m\u001b[0;34m.\u001b[0m\u001b[0mSequential\u001b[0m\u001b[0;34m(\u001b[0m\u001b[0;34m)\u001b[0m\u001b[0;34m\u001b[0m\u001b[0;34m\u001b[0m\u001b[0m\n\u001b[0m\u001b[1;32m      2\u001b[0m \u001b[0mmodel\u001b[0m\u001b[0;34m.\u001b[0m\u001b[0madd\u001b[0m\u001b[0;34m(\u001b[0m\u001b[0mlayers\u001b[0m\u001b[0;34m.\u001b[0m\u001b[0mDense\u001b[0m\u001b[0;34m(\u001b[0m\u001b[0;36m16\u001b[0m\u001b[0;34m,\u001b[0m\u001b[0mkernel_initializer\u001b[0m\u001b[0;34m=\u001b[0m\u001b[0;34m'uniform'\u001b[0m\u001b[0;34m,\u001b[0m\u001b[0minput_shape\u001b[0m\u001b[0;34m=\u001b[0m\u001b[0;34m(\u001b[0m\u001b[0mmax_words\u001b[0m\u001b[0;34m,\u001b[0m\u001b[0;34m)\u001b[0m\u001b[0;34m)\u001b[0m\u001b[0;34m)\u001b[0m\u001b[0;34m\u001b[0m\u001b[0;34m\u001b[0m\u001b[0m\n\u001b[1;32m      3\u001b[0m \u001b[0mmodel\u001b[0m\u001b[0;34m.\u001b[0m\u001b[0madd\u001b[0m\u001b[0;34m(\u001b[0m\u001b[0mlayers\u001b[0m\u001b[0;34m.\u001b[0m\u001b[0mDropout\u001b[0m\u001b[0;34m(\u001b[0m\u001b[0;36m0.2\u001b[0m\u001b[0;34m)\u001b[0m\u001b[0;34m)\u001b[0m\u001b[0;34m\u001b[0m\u001b[0;34m\u001b[0m\u001b[0m\n\u001b[1;32m      4\u001b[0m \u001b[0mmodel\u001b[0m\u001b[0;34m.\u001b[0m\u001b[0madd\u001b[0m\u001b[0;34m(\u001b[0m\u001b[0mlayers\u001b[0m\u001b[0;34m.\u001b[0m\u001b[0mActivation\u001b[0m\u001b[0;34m(\u001b[0m\u001b[0;34m'relu'\u001b[0m\u001b[0;34m)\u001b[0m\u001b[0;34m)\u001b[0m\u001b[0;34m\u001b[0m\u001b[0;34m\u001b[0m\u001b[0m\n\u001b[1;32m      5\u001b[0m \u001b[0mmodel\u001b[0m\u001b[0;34m.\u001b[0m\u001b[0madd\u001b[0m\u001b[0;34m(\u001b[0m\u001b[0mlayers\u001b[0m\u001b[0;34m.\u001b[0m\u001b[0mDense\u001b[0m\u001b[0;34m(\u001b[0m\u001b[0mnum_classes\u001b[0m\u001b[0;34m)\u001b[0m\u001b[0;34m)\u001b[0m\u001b[0;34m\u001b[0m\u001b[0;34m\u001b[0m\u001b[0m\n",
            "\u001b[0;31mNameError\u001b[0m: name 'models' is not defined"
          ]
        }
      ]
    },
    {
      "cell_type": "code",
      "source": [
        "history = model.fit(x_train, y_train,\n",
        "                    batch_size=batch_size,\n",
        "                    epochs=epochs,\n",
        "                    verbose=2,\n",
        "                    validation_split=0.2)"
      ],
      "metadata": {
        "colab": {
          "base_uri": "https://localhost:8080/"
        },
        "id": "qfhNT3pe5jl_",
        "outputId": "b88acd2d-36c2-4f89-9112-d833bb5a5513"
      },
      "execution_count": null,
      "outputs": [
        {
          "output_type": "stream",
          "name": "stdout",
          "text": [
            "Epoch 1/80\n",
            "552/552 - 2s - loss: 1.5623 - accuracy: 0.2870 - val_loss: 1.5851 - val_accuracy: 0.2598 - 2s/epoch - 4ms/step\n",
            "Epoch 2/80\n",
            "552/552 - 1s - loss: 1.4771 - accuracy: 0.3636 - val_loss: 1.5724 - val_accuracy: 0.2752 - 1s/epoch - 2ms/step\n",
            "Epoch 3/80\n",
            "552/552 - 2s - loss: 1.3923 - accuracy: 0.4084 - val_loss: 1.5661 - val_accuracy: 0.2884 - 2s/epoch - 4ms/step\n",
            "Epoch 4/80\n",
            "552/552 - 2s - loss: 1.3086 - accuracy: 0.4569 - val_loss: 1.5740 - val_accuracy: 0.2807 - 2s/epoch - 3ms/step\n",
            "Epoch 5/80\n",
            "552/552 - 1s - loss: 1.2396 - accuracy: 0.4933 - val_loss: 1.5818 - val_accuracy: 0.2893 - 1s/epoch - 2ms/step\n",
            "Epoch 6/80\n",
            "552/552 - 1s - loss: 1.1643 - accuracy: 0.5303 - val_loss: 1.6034 - val_accuracy: 0.2807 - 1s/epoch - 2ms/step\n",
            "Epoch 7/80\n",
            "552/552 - 1s - loss: 1.0919 - accuracy: 0.5671 - val_loss: 1.6280 - val_accuracy: 0.2902 - 1s/epoch - 2ms/step\n",
            "Epoch 8/80\n",
            "552/552 - 1s - loss: 1.0299 - accuracy: 0.5925 - val_loss: 1.6590 - val_accuracy: 0.2893 - 1s/epoch - 2ms/step\n",
            "Epoch 9/80\n",
            "552/552 - 1s - loss: 0.9802 - accuracy: 0.6167 - val_loss: 1.6960 - val_accuracy: 0.2911 - 1s/epoch - 2ms/step\n",
            "Epoch 10/80\n",
            "552/552 - 1s - loss: 0.9360 - accuracy: 0.6307 - val_loss: 1.7245 - val_accuracy: 0.2943 - 1s/epoch - 2ms/step\n",
            "Epoch 11/80\n",
            "552/552 - 1s - loss: 0.8853 - accuracy: 0.6547 - val_loss: 1.7847 - val_accuracy: 0.2852 - 1s/epoch - 2ms/step\n",
            "Epoch 12/80\n",
            "552/552 - 1s - loss: 0.8523 - accuracy: 0.6719 - val_loss: 1.8229 - val_accuracy: 0.2852 - 1s/epoch - 2ms/step\n",
            "Epoch 13/80\n",
            "552/552 - 1s - loss: 0.8106 - accuracy: 0.6849 - val_loss: 1.8801 - val_accuracy: 0.2838 - 1s/epoch - 2ms/step\n",
            "Epoch 14/80\n",
            "552/552 - 1s - loss: 0.7768 - accuracy: 0.7009 - val_loss: 1.9235 - val_accuracy: 0.2843 - 1s/epoch - 2ms/step\n",
            "Epoch 15/80\n",
            "552/552 - 1s - loss: 0.7450 - accuracy: 0.7116 - val_loss: 1.9905 - val_accuracy: 0.2802 - 1s/epoch - 2ms/step\n",
            "Epoch 16/80\n",
            "552/552 - 1s - loss: 0.7134 - accuracy: 0.7283 - val_loss: 2.0359 - val_accuracy: 0.2798 - 1s/epoch - 2ms/step\n",
            "Epoch 17/80\n",
            "552/552 - 1s - loss: 0.6867 - accuracy: 0.7364 - val_loss: 2.0879 - val_accuracy: 0.2770 - 1s/epoch - 2ms/step\n",
            "Epoch 18/80\n",
            "552/552 - 1s - loss: 0.6718 - accuracy: 0.7352 - val_loss: 2.1577 - val_accuracy: 0.2789 - 1s/epoch - 2ms/step\n",
            "Epoch 19/80\n",
            "552/552 - 1s - loss: 0.6339 - accuracy: 0.7536 - val_loss: 2.2227 - val_accuracy: 0.2739 - 1s/epoch - 2ms/step\n",
            "Epoch 20/80\n",
            "552/552 - 1s - loss: 0.6252 - accuracy: 0.7528 - val_loss: 2.2746 - val_accuracy: 0.2798 - 1s/epoch - 2ms/step\n",
            "Epoch 21/80\n",
            "552/552 - 1s - loss: 0.6089 - accuracy: 0.7603 - val_loss: 2.3350 - val_accuracy: 0.2798 - 1s/epoch - 2ms/step\n",
            "Epoch 22/80\n",
            "552/552 - 1s - loss: 0.5887 - accuracy: 0.7637 - val_loss: 2.3784 - val_accuracy: 0.2780 - 1s/epoch - 2ms/step\n",
            "Epoch 23/80\n",
            "552/552 - 1s - loss: 0.5638 - accuracy: 0.7834 - val_loss: 2.4615 - val_accuracy: 0.2743 - 1s/epoch - 2ms/step\n",
            "Epoch 24/80\n",
            "552/552 - 1s - loss: 0.5641 - accuracy: 0.7743 - val_loss: 2.5263 - val_accuracy: 0.2734 - 1s/epoch - 2ms/step\n",
            "Epoch 25/80\n",
            "552/552 - 1s - loss: 0.5444 - accuracy: 0.7852 - val_loss: 2.6045 - val_accuracy: 0.2743 - 1s/epoch - 2ms/step\n",
            "Epoch 26/80\n",
            "552/552 - 1s - loss: 0.5214 - accuracy: 0.7937 - val_loss: 2.6581 - val_accuracy: 0.2829 - 1s/epoch - 2ms/step\n",
            "Epoch 27/80\n",
            "552/552 - 1s - loss: 0.5178 - accuracy: 0.7936 - val_loss: 2.7213 - val_accuracy: 0.2847 - 1s/epoch - 2ms/step\n",
            "Epoch 28/80\n",
            "552/552 - 1s - loss: 0.5078 - accuracy: 0.7936 - val_loss: 2.7738 - val_accuracy: 0.2793 - 1s/epoch - 2ms/step\n",
            "Epoch 29/80\n",
            "552/552 - 1s - loss: 0.4944 - accuracy: 0.7981 - val_loss: 2.8623 - val_accuracy: 0.2798 - 1s/epoch - 2ms/step\n",
            "Epoch 30/80\n",
            "552/552 - 1s - loss: 0.4861 - accuracy: 0.8008 - val_loss: 2.9010 - val_accuracy: 0.2793 - 1s/epoch - 2ms/step\n",
            "Epoch 31/80\n",
            "552/552 - 1s - loss: 0.4838 - accuracy: 0.7991 - val_loss: 2.9792 - val_accuracy: 0.2802 - 1s/epoch - 2ms/step\n",
            "Epoch 32/80\n",
            "552/552 - 1s - loss: 0.4661 - accuracy: 0.8073 - val_loss: 3.0712 - val_accuracy: 0.2748 - 1s/epoch - 2ms/step\n",
            "Epoch 33/80\n",
            "552/552 - 1s - loss: 0.4525 - accuracy: 0.8144 - val_loss: 3.1193 - val_accuracy: 0.2712 - 1s/epoch - 2ms/step\n",
            "Epoch 34/80\n",
            "552/552 - 1s - loss: 0.4453 - accuracy: 0.8169 - val_loss: 3.1954 - val_accuracy: 0.2743 - 1s/epoch - 2ms/step\n",
            "Epoch 35/80\n",
            "552/552 - 1s - loss: 0.4332 - accuracy: 0.8180 - val_loss: 3.2598 - val_accuracy: 0.2707 - 1s/epoch - 2ms/step\n",
            "Epoch 36/80\n",
            "552/552 - 1s - loss: 0.4394 - accuracy: 0.8135 - val_loss: 3.2820 - val_accuracy: 0.2752 - 1s/epoch - 2ms/step\n",
            "Epoch 37/80\n",
            "552/552 - 1s - loss: 0.4253 - accuracy: 0.8192 - val_loss: 3.3621 - val_accuracy: 0.2780 - 1s/epoch - 2ms/step\n",
            "Epoch 38/80\n",
            "552/552 - 1s - loss: 0.4183 - accuracy: 0.8224 - val_loss: 3.4492 - val_accuracy: 0.2770 - 1s/epoch - 2ms/step\n",
            "Epoch 39/80\n",
            "552/552 - 1s - loss: 0.4131 - accuracy: 0.8278 - val_loss: 3.5248 - val_accuracy: 0.2748 - 1s/epoch - 2ms/step\n",
            "Epoch 40/80\n",
            "552/552 - 1s - loss: 0.4097 - accuracy: 0.8248 - val_loss: 3.5762 - val_accuracy: 0.2780 - 1s/epoch - 2ms/step\n",
            "Epoch 41/80\n",
            "552/552 - 1s - loss: 0.4026 - accuracy: 0.8265 - val_loss: 3.6328 - val_accuracy: 0.2793 - 1s/epoch - 2ms/step\n",
            "Epoch 42/80\n",
            "552/552 - 1s - loss: 0.3961 - accuracy: 0.8302 - val_loss: 3.6930 - val_accuracy: 0.2766 - 1s/epoch - 2ms/step\n",
            "Epoch 43/80\n",
            "552/552 - 1s - loss: 0.3853 - accuracy: 0.8358 - val_loss: 3.7305 - val_accuracy: 0.2743 - 1s/epoch - 2ms/step\n",
            "Epoch 44/80\n",
            "552/552 - 1s - loss: 0.3784 - accuracy: 0.8391 - val_loss: 3.8298 - val_accuracy: 0.2739 - 1s/epoch - 2ms/step\n",
            "Epoch 45/80\n",
            "552/552 - 1s - loss: 0.3785 - accuracy: 0.8345 - val_loss: 3.8465 - val_accuracy: 0.2757 - 1s/epoch - 2ms/step\n",
            "Epoch 46/80\n",
            "552/552 - 1s - loss: 0.3704 - accuracy: 0.8425 - val_loss: 3.8875 - val_accuracy: 0.2766 - 1s/epoch - 2ms/step\n",
            "Epoch 47/80\n",
            "552/552 - 1s - loss: 0.3703 - accuracy: 0.8400 - val_loss: 4.0046 - val_accuracy: 0.2748 - 1s/epoch - 2ms/step\n",
            "Epoch 48/80\n",
            "552/552 - 1s - loss: 0.3648 - accuracy: 0.8373 - val_loss: 4.0216 - val_accuracy: 0.2761 - 1s/epoch - 2ms/step\n",
            "Epoch 49/80\n",
            "552/552 - 1s - loss: 0.3631 - accuracy: 0.8423 - val_loss: 4.1212 - val_accuracy: 0.2775 - 1s/epoch - 2ms/step\n",
            "Epoch 50/80\n",
            "552/552 - 1s - loss: 0.3469 - accuracy: 0.8465 - val_loss: 4.1491 - val_accuracy: 0.2780 - 1s/epoch - 2ms/step\n",
            "Epoch 51/80\n",
            "552/552 - 1s - loss: 0.3641 - accuracy: 0.8337 - val_loss: 4.2210 - val_accuracy: 0.2775 - 1s/epoch - 2ms/step\n",
            "Epoch 52/80\n",
            "552/552 - 1s - loss: 0.3580 - accuracy: 0.8414 - val_loss: 4.3138 - val_accuracy: 0.2770 - 1s/epoch - 2ms/step\n",
            "Epoch 53/80\n",
            "552/552 - 1s - loss: 0.3567 - accuracy: 0.8405 - val_loss: 4.3470 - val_accuracy: 0.2770 - 1s/epoch - 2ms/step\n",
            "Epoch 54/80\n",
            "552/552 - 1s - loss: 0.3561 - accuracy: 0.8365 - val_loss: 4.4329 - val_accuracy: 0.2780 - 1s/epoch - 2ms/step\n",
            "Epoch 55/80\n",
            "552/552 - 1s - loss: 0.3484 - accuracy: 0.8423 - val_loss: 4.5068 - val_accuracy: 0.2793 - 1s/epoch - 2ms/step\n",
            "Epoch 56/80\n",
            "552/552 - 1s - loss: 0.3431 - accuracy: 0.8454 - val_loss: 4.5414 - val_accuracy: 0.2793 - 1s/epoch - 2ms/step\n",
            "Epoch 57/80\n",
            "552/552 - 1s - loss: 0.3397 - accuracy: 0.8430 - val_loss: 4.6179 - val_accuracy: 0.2802 - 1s/epoch - 2ms/step\n",
            "Epoch 58/80\n",
            "552/552 - 1s - loss: 0.3304 - accuracy: 0.8498 - val_loss: 4.6623 - val_accuracy: 0.2725 - 1s/epoch - 2ms/step\n",
            "Epoch 59/80\n",
            "552/552 - 1s - loss: 0.3303 - accuracy: 0.8475 - val_loss: 4.7524 - val_accuracy: 0.2712 - 1s/epoch - 2ms/step\n",
            "Epoch 60/80\n",
            "552/552 - 1s - loss: 0.3321 - accuracy: 0.8516 - val_loss: 4.7963 - val_accuracy: 0.2802 - 1s/epoch - 2ms/step\n",
            "Epoch 61/80\n",
            "552/552 - 1s - loss: 0.3238 - accuracy: 0.8513 - val_loss: 4.8537 - val_accuracy: 0.2734 - 1s/epoch - 2ms/step\n",
            "Epoch 62/80\n",
            "552/552 - 1s - loss: 0.3337 - accuracy: 0.8434 - val_loss: 4.8732 - val_accuracy: 0.2807 - 1s/epoch - 2ms/step\n",
            "Epoch 63/80\n",
            "552/552 - 1s - loss: 0.3241 - accuracy: 0.8443 - val_loss: 4.9559 - val_accuracy: 0.2775 - 1s/epoch - 2ms/step\n",
            "Epoch 64/80\n",
            "552/552 - 1s - loss: 0.3270 - accuracy: 0.8460 - val_loss: 5.0248 - val_accuracy: 0.2743 - 1s/epoch - 2ms/step\n",
            "Epoch 65/80\n",
            "552/552 - 1s - loss: 0.3175 - accuracy: 0.8491 - val_loss: 5.0724 - val_accuracy: 0.2784 - 1s/epoch - 2ms/step\n",
            "Epoch 66/80\n",
            "552/552 - 1s - loss: 0.3195 - accuracy: 0.8524 - val_loss: 5.1496 - val_accuracy: 0.2757 - 1s/epoch - 2ms/step\n",
            "Epoch 67/80\n",
            "552/552 - 1s - loss: 0.3078 - accuracy: 0.8578 - val_loss: 5.2060 - val_accuracy: 0.2766 - 1s/epoch - 2ms/step\n",
            "Epoch 68/80\n",
            "552/552 - 1s - loss: 0.3140 - accuracy: 0.8558 - val_loss: 5.2440 - val_accuracy: 0.2807 - 1s/epoch - 2ms/step\n",
            "Epoch 69/80\n",
            "552/552 - 1s - loss: 0.3138 - accuracy: 0.8573 - val_loss: 5.3287 - val_accuracy: 0.2798 - 1s/epoch - 2ms/step\n",
            "Epoch 70/80\n",
            "552/552 - 1s - loss: 0.3107 - accuracy: 0.8538 - val_loss: 5.3512 - val_accuracy: 0.2838 - 1s/epoch - 2ms/step\n",
            "Epoch 71/80\n",
            "552/552 - 1s - loss: 0.3114 - accuracy: 0.8563 - val_loss: 5.4077 - val_accuracy: 0.2811 - 1s/epoch - 2ms/step\n",
            "Epoch 72/80\n",
            "552/552 - 1s - loss: 0.2974 - accuracy: 0.8581 - val_loss: 5.4578 - val_accuracy: 0.2789 - 1s/epoch - 2ms/step\n",
            "Epoch 73/80\n",
            "552/552 - 1s - loss: 0.2956 - accuracy: 0.8612 - val_loss: 5.5336 - val_accuracy: 0.2780 - 1s/epoch - 2ms/step\n",
            "Epoch 74/80\n",
            "552/552 - 1s - loss: 0.2973 - accuracy: 0.8572 - val_loss: 5.6043 - val_accuracy: 0.2761 - 1s/epoch - 2ms/step\n",
            "Epoch 75/80\n",
            "552/552 - 1s - loss: 0.2942 - accuracy: 0.8608 - val_loss: 5.6312 - val_accuracy: 0.2770 - 1s/epoch - 2ms/step\n",
            "Epoch 76/80\n",
            "552/552 - 1s - loss: 0.2952 - accuracy: 0.8620 - val_loss: 5.6862 - val_accuracy: 0.2748 - 1s/epoch - 2ms/step\n",
            "Epoch 77/80\n",
            "552/552 - 1s - loss: 0.2870 - accuracy: 0.8666 - val_loss: 5.7237 - val_accuracy: 0.2775 - 1s/epoch - 2ms/step\n",
            "Epoch 78/80\n",
            "552/552 - 1s - loss: 0.2920 - accuracy: 0.8622 - val_loss: 5.8011 - val_accuracy: 0.2748 - 1s/epoch - 2ms/step\n",
            "Epoch 79/80\n",
            "552/552 - 1s - loss: 0.2897 - accuracy: 0.8604 - val_loss: 5.7884 - val_accuracy: 0.2784 - 1s/epoch - 2ms/step\n",
            "Epoch 80/80\n",
            "552/552 - 1s - loss: 0.2959 - accuracy: 0.8624 - val_loss: 5.9026 - val_accuracy: 0.2780 - 1s/epoch - 2ms/step\n"
          ]
        }
      ]
    },
    {
      "cell_type": "code",
      "source": [
        "score = model.evaluate(x_train, y_train,\n",
        "                       batch_size=batch_size, verbose=2)\n",
        "print('Train loss:', score[0])\n",
        "print('Train accuracy:', score[1])"
      ],
      "metadata": {
        "colab": {
          "base_uri": "https://localhost:8080/"
        },
        "id": "XTMZ-UxE6C8s",
        "outputId": "3d97edf4-cd54-4c09-f004-01bb0ea54ccc"
      },
      "execution_count": null,
      "outputs": [
        {
          "output_type": "stream",
          "name": "stdout",
          "text": [
            "691/691 - 1s - loss: 1.2436 - accuracy: 0.8323 - 853ms/epoch - 1ms/step\n",
            "Train loss: 1.243604063987732\n",
            "Train accuracy: 0.8322615623474121\n"
          ]
        }
      ]
    },
    {
      "cell_type": "code",
      "source": [
        "score = model.evaluate(x_test, y_test,\n",
        "                       batch_size=batch_size, verbose=2)\n",
        "print('Test loss:', score[0])\n",
        "print('Test accuracy:', score[1])"
      ],
      "metadata": {
        "colab": {
          "base_uri": "https://localhost:8080/"
        },
        "id": "LV8PhYnY6C3o",
        "outputId": "c610c299-011a-49c1-ccd7-469ae4118106"
      },
      "execution_count": null,
      "outputs": [
        {
          "output_type": "stream",
          "name": "stdout",
          "text": [
            "173/173 - 0s - loss: 5.3921 - accuracy: 0.2709 - 219ms/epoch - 1ms/step\n",
            "Test loss: 5.392055034637451\n",
            "Test accuracy: 0.2709163427352905\n"
          ]
        }
      ]
    },
    {
      "cell_type": "code",
      "source": [
        "def plot_history(history):\n",
        "    acc = history.history['accuracy']\n",
        "    val_acc = history.history['val_accuracy']\n",
        "    loss = history.history['loss']\n",
        "    val_loss = history.history['val_loss']\n",
        "    x = range(1, len(acc) + 1)\n",
        "\n",
        "    plt.figure(figsize=(12, 5))\n",
        "    plt.subplot(1, 2, 1)\n",
        "    plt.plot(x, acc, 'b', label='Training acc')\n",
        "    plt.plot(x, val_acc, 'r', label='Validation acc')\n",
        "    plt.title('Training and validation accuracy')\n",
        "    plt.legend()\n",
        "    plt.subplot(1, 2, 2)\n",
        "    plt.plot(x, loss, 'b', label='Training loss')\n",
        "    plt.plot(x, val_loss, 'r', label='Validation loss')\n",
        "    plt.title('Training and validation loss')\n",
        "    plt.legend()\n",
        "plot_history(history)"
      ],
      "metadata": {
        "colab": {
          "base_uri": "https://localhost:8080/",
          "height": 347
        },
        "id": "dmOE1lRV6CrQ",
        "outputId": "29c99ff4-e42f-4dd8-dc0a-2de2b2cbc07b"
      },
      "execution_count": null,
      "outputs": [
        {
          "output_type": "display_data",
          "data": {
            "image/png": "[encoded data removed]",
            "text/plain": [
              "<Figure size 864x360 with 2 Axes>"
            ]
          },
          "metadata": {
            "needs_background": "light"
          }
        }
      ]
    },
    {
      "cell_type": "code",
      "source": [
        "text_labels = encoder.classes_\n",
        "for i in range(20):\n",
        "    prediction = model.predict(np.array([x_test[i]]))\n",
        "    predicted_label = text_labels[np.argmax(prediction)]\n",
        "    print(test_text.iloc[i][:50], \"...\")\n",
        "    print('Actual Type:' + test_cat.iloc[i])\n",
        "    print(\"Predicted Type: \" + predicted_label + \"\\n\")"
      ],
      "metadata": {
        "colab": {
          "base_uri": "https://localhost:8080/"
        },
        "id": "E994oEQI6Iap",
        "outputId": "fc14fee6-53c6-4ca9-dd25-66c96978b2f0"
      },
      "execution_count": null,
      "outputs": [
        {
          "output_type": "stream",
          "name": "stdout",
          "text": [
            "মেহেদী মারুফ ছেলেটা অসাধারণ প্রতিভাধর একজন মারকুটে ...\n",
            "Actual Type:normal\n",
            "Predicted Type: positive\n",
            "\n",
            "মোহামেডানের লজ্জা হওয়া উচিত আর বাংলাদেশ ক্রিকেট বো ...\n",
            "Actual Type:toxic\n",
            "Predicted Type: sever_toxic\n",
            "\n",
            "এই অয়ালশ আসার আগে হিথ স্ত্রিকের সময় চারজন পেসার নি ...\n",
            "Actual Type:normal\n",
            "Predicted Type: toxic\n",
            "\n",
            "বাংলাদেশের কেউ এমন কথা বললে তার নাগরিকত্ব বাতিল কর ...\n",
            "Actual Type:toxic\n",
            "Predicted Type: toxic\n",
            "\n",
            "দারুন মন্তব্যটি নাম প্রকাশ করে করলেই পারতেন ...\n",
            "Actual Type:sever_positive\n",
            "Predicted Type: toxic\n",
            "\n",
            "শিরনাম ভাল লাগল না তিনি ক্যারিবিয় দলের পরাজয় খুশি  ...\n",
            "Actual Type:sever_positive\n",
            "Predicted Type: positive\n",
            "\n",
            "আমি বাংলাদেশ দলের কোচ ওয়ালশ এর উদ্দেশ্য বলছি মোঃ খ ...\n",
            "Actual Type:normal\n",
            "Predicted Type: positive\n",
            "\n",
            "মিস ইউ লিও লাভ ইউ এ লট ...\n",
            "Actual Type:sever_positive\n",
            "Predicted Type: toxic\n",
            "\n",
            "বাহ বাপব্যাটাকে একসাথে দেখে খুব ভাল লাগল ...\n",
            "Actual Type:sever_toxic\n",
            "Predicted Type: sever_toxic\n",
            "\n",
            "অন্য রা বললে গুরতর অপরাধ  ভারত করলে এটা কোন দোষের  ...\n",
            "Actual Type:toxic\n",
            "Predicted Type: normal\n",
            "\n",
            "ভাষায় প্রকাশের অযোগ্য এটা দেখার পর কি যে হাসলাম এত ...\n",
            "Actual Type:normal\n",
            "Predicted Type: sever_toxic\n",
            "\n",
            "ভারতীয় ক্রিকেটাররা ভালো ক্রিকেট খেলতে পারে কিন্তু ...\n",
            "Actual Type:sever_positive\n",
            "Predicted Type: toxic\n",
            "\n",
            "রবি শাস্ত্রী লোক মোটেও ভালো না  তাই তার কাছে এমন ক ...\n",
            "Actual Type:normal\n",
            "Predicted Type: sever_toxic\n",
            "\n",
            "এই রবি শাস্ত্রী ভদ্রলোক আসলেই ম্যানার জিনিসটা কম জ ...\n",
            "Actual Type:toxic\n",
            "Predicted Type: toxic\n",
            "\n",
            "রবি শাস্ত্রীর থেকে এটাই প্রত্যাশিত ...\n",
            "Actual Type:sever_positive\n",
            "Predicted Type: sever_toxic\n",
            "\n",
            "রহিমভের এক অনন্য কীর্তি আছে ঢাকা লীগে  উনি হ্যাটট্ ...\n",
            "Actual Type:normal\n",
            "Predicted Type: sever_toxic\n",
            "\n",
            "জ্বী জনাব আমিও আপনার মতো  বছরের পুরনো স্মৃতি হাতড়া ...\n",
            "Actual Type:normal\n",
            "Predicted Type: sever_toxic\n",
            "\n",
            "মুখে মুখে সারা দিন আমেরিকাকে গালাগালি আর এখন পালান ...\n",
            "Actual Type:toxic\n",
            "Predicted Type: sever_toxic\n",
            "\n",
            "ইউনিফাইড ফুটবল দলটি উরুগুয়ের বিপক্ষে হারলেও প্রথমে ...\n",
            "Actual Type:toxic\n",
            "Predicted Type: sever_toxic\n",
            "\n",
            "সাধারণ ভাবেই মনে হচ্ছে এটা ইচ্ছা করে করা ...\n",
            "Actual Type:normal\n",
            "Predicted Type: toxic\n",
            "\n"
          ]
        }
      ]
    },
    {
      "cell_type": "code",
      "source": [
        "y_softmax = model.predict(x_test)\n",
        "\n",
        "y_test_1d = []\n",
        "y_pred_1d = []\n",
        "\n",
        "for i in range(len(y_test)):\n",
        "    probs = y_test[i]\n",
        "    index_arr = np.nonzero(probs)\n",
        "    one_hot_index = index_arr[0].item(0)\n",
        "    y_test_1d.append(one_hot_index)\n",
        "\n",
        "for i in range(0, len(y_softmax)):\n",
        "    probs = y_softmax[i]\n",
        "    predicted_index = np.argmax(probs)\n",
        "    y_pred_1d.append(predicted_index)"
      ],
      "metadata": {
        "id": "bARvf6WJ6OKS"
      },
      "execution_count": null,
      "outputs": []
    },
    {
      "cell_type": "code",
      "source": [
        "import matplotlib.font_manager as fm\n",
        "prop = fm.FontProperties(fname='/content/drive/MyDrive/ICNLPA/toxic/Bengali-News-Headline-Classification-main/kalpurush.ttf')\n",
        "fontproperties=prop\n",
        "def plot_confusion_matrix(cm, classes,\n",
        "                          title='Confusion matrix',\n",
        "                          cmap=plt.cm.Blues):\n",
        "\n",
        "    cm = cm.astype('float') / cm.sum(axis=1)[:, np.newaxis]\n",
        "\n",
        "    plt.imshow(cm, interpolation='nearest', cmap=cmap)\n",
        "    plt.title(title, fontsize=20)\n",
        "    plt.colorbar()\n",
        "    tick_marks = np.arange(len(classes))\n",
        "    plt.xticks(tick_marks, classes, rotation=90, fontsize=25, fontproperties=prop)\n",
        "    plt.yticks(tick_marks, classes, fontsize=25, fontproperties=prop)\n",
        "\n",
        "    fmt = '.2f'\n",
        "    thresh = cm.max() / 2.\n",
        "    for i, j in itertools.product(range(cm.shape[0]), range(cm.shape[0])):\n",
        "        plt.text(j, i, format(cm[i, j], fmt),\n",
        "                 horizontalalignment=\"center\",\n",
        "                 color=\"white\" if cm[i, j] > thresh else \"black\")\n",
        "\n",
        "    plt.ylabel('True label', fontsize=20)\n",
        "    plt.xlabel('Predicted label', fontsize=20)"
      ],
      "metadata": {
        "id": "xwN1ej396OEB"
      },
      "execution_count": null,
      "outputs": []
    },
    {
      "cell_type": "code",
      "source": [
        "cnf_matrix = confusion_matrix(y_test_1d, y_pred_1d)\n",
        "plt.figure(figsize=(15,15))\n",
        "plot_confusion_matrix(cnf_matrix, classes=text_labels, title=\"Confusion matrix\")\n",
        "plt.show()"
      ],
      "metadata": {
        "colab": {
          "base_uri": "https://localhost:8080/",
          "height": 865
        },
        "id": "5o76LB4X6WJA",
        "outputId": "a714832d-848e-4b24-97e5-a228173a8005"
      },
      "execution_count": null,
      "outputs": [
        {
          "output_type": "display_data",
          "data": {
            "image/png": "[encoded data removed]",
            "text/plain": [
              "<Figure size 1080x1080 with 2 Axes>"
            ]
          },
          "metadata": {
            "needs_background": "light"
          }
        }
      ]
    }
  ],
  "metadata": {
    "kernelspec": {
      "display_name": "Python 3",
      "language": "python",
      "name": "python3"
    },
    "language_info": {
      "codemirror_mode": {
        "name": "ipython",
        "version": 3
      },
      "file_extension": ".py",
      "mimetype": "text/x-python",
      "name": "python",
      "nbconvert_exporter": "python",
      "pygments_lexer": "ipython3",
      "version": "3.7.6"
    },
    "papermill": {
      "duration": 155.662062,
      "end_time": "2020-08-29T09:38:46.039670",
      "environment_variables": {},
      "exception": null,
      "input_path": "__notebook__.ipynb",
      "output_path": "__notebook__.ipynb",
      "parameters": {},
      "start_time": "2020-08-29T09:36:10.377608",
      "version": "2.1.0"
    },
    "colab": {
      "provenance": [],
      "include_colab_link": true
    }
  },
  "nbformat": 4,
  "nbformat_minor": 0
}